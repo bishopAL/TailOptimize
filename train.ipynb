{
 "cells": [
  {
   "cell_type": "code",
   "execution_count": 1,
   "metadata": {},
   "outputs": [],
   "source": [
    "from env import simGym\n",
    "from ppo_network import PolicyNetwork\n",
    "import numpy as np\n",
    "from data import Trajectory, Buffer"
   ]
  },
  {
   "cell_type": "code",
   "execution_count": 2,
   "metadata": {},
   "outputs": [],
   "source": [
    "n_actions = 1\n",
    "n_states = 3\n",
    "n_steps = 200  # steps for per episode\n",
    "n_episode = 50\n",
    "n_steps_per_learn = n_episode * n_steps\n",
    "pn = PolicyNetwork(n_states, \n",
    "                 n_actions, \n",
    "                 n_steps, \n",
    "                 n_steps_per_learn)\n",
    "t = Trajectory()\n",
    "buffer = Buffer(n_states, n_actions, n_episode, n_steps)"
   ]
  },
  {
   "cell_type": "code",
   "execution_count": 4,
   "metadata": {},
   "outputs": [
    {
     "name": "stdout",
     "output_type": "stream",
     "text": [
      "0 -7.263696897580317\n",
      "1 -7.238540418799955\n",
      "2 -6.830916670913898\n",
      "3 -6.851399728107576\n",
      "4 -6.936301133936304\n",
      "5 -7.339611580573334\n",
      "6 -7.333157614628784\n",
      "7 -7.090097306099821\n",
      "8 -7.254071233656809\n",
      "9 -6.72858933084553\n",
      "10 -6.100857530920052\n",
      "11 -6.51600356299424\n",
      "12 -6.3404688926438775\n",
      "13 -6.333245183690421\n",
      "14 -6.268879119978282\n",
      "15 -6.902023824461322\n",
      "16 -6.456703538487813\n",
      "17 -6.888378211167635\n",
      "18 -6.242916235285967\n"
     ]
    }
   ],
   "source": [
    "sim = simGym()\n",
    "observation, info = sim.reset()\n",
    "training_times = 100\n",
    "for times in range(training_times):\n",
    "    buffer.reset()\n",
    "    for i in range(n_episode):\n",
    "        t.reset()\n",
    "        for _ in range(n_steps):\n",
    "            actions = pn.infer(state=observation, noise=True)\n",
    "            observation, reward, terminated, truncated, info = sim.step(actions)\n",
    "            if terminated or truncated:\n",
    "                observation, info = sim.reset()\n",
    "            t.add(observation, actions, reward)\n",
    "        observation, info = sim.reset()\n",
    "        buffer.add(t)\n",
    "    print(times, np.mean(buffer.rewards))\n",
    "    pn.learn(buffer)\n"
   ]
  },
  {
   "cell_type": "code",
   "execution_count": 7,
   "metadata": {},
   "outputs": [
    {
     "ename": "",
     "evalue": "",
     "output_type": "error",
     "traceback": [
      "\u001b[1;31m在当前单元格或上一个单元格中执行代码时 Kernel 崩溃。\n",
      "\u001b[1;31m请查看单元格中的代码，以确定故障的可能原因。\n",
      "\u001b[1;31m单击<a href='https://aka.ms/vscodeJupyterKernelCrash'>此处</a>了解详细信息。\n",
      "\u001b[1;31m有关更多详细信息，请查看 Jupyter <a href='command:jupyter.viewOutput'>log</a>。"
     ]
    }
   ],
   "source": [
    "sim = simGym(render_mode=True)\n",
    "observation, info = sim.reset()\n",
    "for _ in range(200):\n",
    "            actions = pn.infer(state=observation, noise=True)\n",
    "            observation, reward, terminated, truncated, info = sim.step(actions)\n",
    "            if terminated or truncated:\n",
    "                observation, info = sim.reset()"
   ]
  }
 ],
 "metadata": {
  "kernelspec": {
   "display_name": "base",
   "language": "python",
   "name": "python3"
  },
  "language_info": {
   "codemirror_mode": {
    "name": "ipython",
    "version": 3
   },
   "file_extension": ".py",
   "mimetype": "text/x-python",
   "name": "python",
   "nbconvert_exporter": "python",
   "pygments_lexer": "ipython3",
   "version": "3.11.5"
  }
 },
 "nbformat": 4,
 "nbformat_minor": 2
}
